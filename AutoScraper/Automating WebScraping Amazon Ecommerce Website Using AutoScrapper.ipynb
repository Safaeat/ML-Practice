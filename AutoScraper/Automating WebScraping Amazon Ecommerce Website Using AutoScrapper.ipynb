{
 "cells": [
  {
   "cell_type": "code",
   "execution_count": 49,
   "id": "86b02f3d",
   "metadata": {},
   "outputs": [],
   "source": [
    "from autoscraper import AutoScraper"
   ]
  },
  {
   "cell_type": "code",
   "execution_count": 50,
   "id": "7f401537",
   "metadata": {},
   "outputs": [],
   "source": [
    "amazon_url = \"https://www.amazon.com/s?k=samsung+phones&crid=33UZG1JJI6CS8&sprefix=samsung+phones%2Caps%2C351&ref=nb_sb_noss_1\"\n",
    "wanted_list = [\"$1,300.00\", \"Galaxy S24 Ultra Cell Phone, 256GB AI Smartphone, Unlocked Android, 200MP, 100x Zoom Cameras, Long Battery Life, S Pen, US Version, 2024, Titanium Black\", \"259\"]"
   ]
  },
  {
   "cell_type": "code",
   "execution_count": 61,
   "id": "5d0a54bc",
   "metadata": {},
   "outputs": [
    {
     "name": "stdout",
     "output_type": "stream",
     "text": [
      "['$454.99', '$659.99', '$115.00', '$47.13', '$1,300.00', '$397.52', '$54.54', '$89.99', '$716.55', '$90.90', '$300.01', '$276.78', '$607.99', '$149.99', 'Galaxy A54 5G A Series Cell Phone, Unlocked Android Smartphone, 128GB, 6.4” Fluid Display Screen, Pro Grade Camera, Long Battery Life, Refined Design, US Version, 2023, Awesome Black', 'Galaxy S23 FE Cell Phone, 128GB, Unlocked Android Smartphone, Long Battery Life, Premium Processor, Tough Gorilla Glass Display, Hi-Res 50MP Camera, US Version, 2023, Graphite', 'Samsung Galaxy A14 5G A Series, Factory Unlocked, 64GB, US Version, Black (Renewed)', 'Samsung Galaxy A03s, 32GB, Black - Prepaid Smartphone (Locked)', 'Galaxy S24 Ultra Cell Phone, 256GB AI Smartphone, Unlocked Android, 200MP, 100x Zoom Cameras, Long Battery Life, S Pen, US Version, 2024, Titanium Black', 'Galaxy A53 5G A Series Cell Phone, Factory Unlocked Android Smartphone, 128GB, 6.5” FHD Super AMOLED Screen, Long Battery Life, US Version, Black', 'Galaxy A34 5G + 4G LTE (128GB + 6GB) Unlocked Worldwide (Only T-Mobile/Mint/Metro USA Market) 6.6\" 120Hz 48MP Triple Camera + (25W Wall Charger) (Awesome Silver (SM-A346M))', 'Samsung Galaxy A14 5G, 64GB, Black - Prepaid Smartphone (Locked)', 'Galaxy S23 Cell Phone, Unlocked Android Smartphone, 128GB, 50MP Camera, Night Mode, 8K Video, Long Battery Life, Fastest Mobile Processor, Adaptive Display, US Version, 2023, Phantom Black', 'Galaxy S21, 128GB, Grey, New, Factory Unlocked', 'Galaxy A54 5G + 4G LTE (128GB + 8GB) Unlocked Dual Sim (Only T-Mobile/Mint/Metro USA Market) 1 Year Latin America 6.4\" 120Hz 50MP Triple Cam (Awesome Graphite SM-A546E/DS)', 'Samsung Galaxy A54 5G, 128GB, Black – Prepaid Smartphone (Locked)', 'Galaxy XCover6 Pro 5G | Rugged (IP68 Rated) Unlocked (Verizon, AT&T, T-Mobile, US Cellular) | Dual Sim (1 Nano + 1 eSIM) | 128GB | US Version (2022 Model) | Black (SM-G736UZKEXAA)', 'Edge | 2022 | 2-Day Battery | Unlocked | Made for US 6/128GB | 50MP Camera | Mineral Gray', '1,616', '501', '259', '627', '4,347', '188', '1,538', '110', '6,568', '54', '15', '82', '29', '107', '916', '459', '4']\n"
     ]
    }
   ],
   "source": [
    "scraper = AutoScraper()\n",
    "result = scraper.build(amazon_url, wanted_list)\n",
    "print(result)"
   ]
  },
  {
   "cell_type": "code",
   "execution_count": 62,
   "id": "55194ebf",
   "metadata": {},
   "outputs": [
    {
     "data": {
      "text/plain": [
       "{'rule_kvht': ['$454.99',\n",
       "  '$659.99',\n",
       "  '$115.00',\n",
       "  '$397.52',\n",
       "  '$1,300.00',\n",
       "  '$47.13',\n",
       "  '$54.54',\n",
       "  '$89.99',\n",
       "  '$716.55',\n",
       "  '$276.78',\n",
       "  '$300.01',\n",
       "  '$90.90',\n",
       "  '$1,111.99',\n",
       "  '$279.00'],\n",
       " 'rule_sp3e': ['$454.99',\n",
       "  '$659.99',\n",
       "  '$115.00',\n",
       "  '$397.52',\n",
       "  '$1,300.00',\n",
       "  '$47.13',\n",
       "  '$54.54',\n",
       "  '$89.99',\n",
       "  '$716.55',\n",
       "  '$276.78',\n",
       "  '$300.01',\n",
       "  '$90.90',\n",
       "  '$1,111.99',\n",
       "  '$279.00'],\n",
       " 'rule_p13e': ['Galaxy A54 5G A Series Cell Phone, Unlocked Android Smartphone, 128GB, 6.4” Fluid Display Screen, Pro Grade Camera, Long Battery Life, Refined Design, US Version, 2023, Awesome Black',\n",
       "  'Galaxy S23 FE Cell Phone, 128GB, Unlocked Android Smartphone, Long Battery Life, Premium Processor, Tough Gorilla Glass Display, Hi-Res 50MP Camera, US Version, 2023, Graphite',\n",
       "  'Galaxy A34 5G + 4G LTE (128GB + 6GB) Unlocked Worldwide (Only T-Mobile/Mint/Metro USA Market) 6.6\" 120Hz 48MP Triple Camera + (25W Wall Charger) (Awesome Silver (SM-A346M))',\n",
       "  'Samsung Galaxy A14 5G A Series, Factory Unlocked, 64GB, US Version, Black (Renewed)',\n",
       "  'Galaxy A53 5G A Series Cell Phone, Factory Unlocked Android Smartphone, 128GB, 6.5” FHD Super AMOLED Screen, Long Battery Life, US Version, Black',\n",
       "  'Galaxy S24 Ultra Cell Phone, 256GB AI Smartphone, Unlocked Android, 200MP, 100x Zoom Cameras, Long Battery Life, S Pen, US Version, 2024, Titanium Black',\n",
       "  'Samsung Galaxy A03s, 32GB, Black - Prepaid Smartphone (Locked)',\n",
       "  'Samsung Galaxy A03s, 32GB, Black - Prepaid Smartphone (Locked)',\n",
       "  'Samsung Galaxy A14 5G, 64GB, Black - Prepaid Smartphone (Locked)',\n",
       "  'Galaxy S21, 128GB, Grey, New, Factory Unlocked',\n",
       "  'Galaxy S23 Cell Phone, Unlocked Android Smartphone, 128GB, 50MP Camera, Night Mode, 8K Video, Long Battery Life, Fastest Mobile Processor, Adaptive Display, US Version, 2023, Phantom Black',\n",
       "  'Samsung Galaxy A54 5G, 128GB, Black – Prepaid Smartphone (Locked)',\n",
       "  'Galaxy A54 5G + 4G LTE (128GB + 8GB) Unlocked Dual Sim (Only T-Mobile/Mint/Metro USA Market) 1 Year Latin America 6.4\" 120Hz 50MP Triple Cam (Awesome Graphite SM-A546E/DS)',\n",
       "  'Samsung Galaxy A14 5G, 64GB, Black - Prepaid Smartphone (Locked)',\n",
       "  'Galaxy Z Flip 5 Cell Phone, Unlocked Android Smartphone, 256GB, Compact, Foldable Design, One-Hand Control, Best Selfies, 12MP Camera, Large Cover Screen, US Version, 2023, Lavender',\n",
       "  'Samsung Galaxy A54 5G, 128GB, Black – Prepaid Smartphone (Locked)'],\n",
       " 'rule_ivmt': ['1,616',\n",
       "  '501',\n",
       "  '188',\n",
       "  '259',\n",
       "  '4,347',\n",
       "  '259',\n",
       "  '627',\n",
       "  '1,538',\n",
       "  '110',\n",
       "  '15',\n",
       "  '6,568',\n",
       "  '29',\n",
       "  '82',\n",
       "  '54',\n",
       "  '459',\n",
       "  '4'],\n",
       " 'rule_z6fw': ['1,616',\n",
       "  '501',\n",
       "  '188',\n",
       "  '259',\n",
       "  '4,347',\n",
       "  '259',\n",
       "  '627',\n",
       "  '1,538',\n",
       "  '110',\n",
       "  '15',\n",
       "  '6,568',\n",
       "  '29',\n",
       "  '82',\n",
       "  '54',\n",
       "  '459',\n",
       "  '4'],\n",
       " 'rule_9245': ['259', '6,568', '1,616', '459']}"
      ]
     },
     "execution_count": 62,
     "metadata": {},
     "output_type": "execute_result"
    }
   ],
   "source": [
    "scraper.get_result_similar(amazon_url, grouped = True)"
   ]
  },
  {
   "cell_type": "code",
   "execution_count": 64,
   "id": "c9b6e832",
   "metadata": {},
   "outputs": [],
   "source": [
    "scraper.set_rule_aliases({'rule_p13e':'Title'})\n",
    "scraper.keep_rules(['rule_p13e'])\n",
    "scraper.save(\"amazon-search\")"
   ]
  },
  {
   "cell_type": "code",
   "execution_count": 65,
   "id": "0ded289b",
   "metadata": {},
   "outputs": [
    {
     "data": {
      "text/plain": [
       "{'Title': ['Google Pixel 6a - 5G Android Phone - Unlocked Smartphone with 12 Megapixel Camera and 24-Hour Battery - Charcoal',\n",
       "  'Motorola edge | Unlocked | Made for US by Motorola | 6GB + 256GB | 64MP Camera | 2020 | Solar Black',\n",
       "  'Michigan MI pin-up girl Detroit Vintage Decal Sticker Souvenir Skateboard Laptop Phone Case',\n",
       "  'Mackinac Island Michigan MI Vintage Travel Decal Sticker Souvenir Skateboard Laptop',\n",
       "  'South Manitou Island MI Michigan Vintage Travel Decal Sticker Souvenir Skateboard Laptop',\n",
       "  'Munising Michigan MI Vintage Travel Decal Sticker Souvenir Skateboard Laptop',\n",
       "  'Traverse City MI Michigan Cherry Festival Vintage Travel Decal Sticker Souvenir Skateboard Laptop',\n",
       "  'Houghton Lake MI Michigan Vintage Decal Sticker Souvenir',\n",
       "  'Detroit Michigan MI Vintage Travel Decal Sticker Souvenir',\n",
       "  'Detroit Michigan MI The Motor City Vintage Travel Decal Sticker Souvenir',\n",
       "  'Mackinaw City Michigan MI Vintage Travel Decal Sticker Souvenir Skateboard Laptop',\n",
       "  'Iron Mountain Michigan MI Vintage Decal Sticker Souvenir Skateboard Laptop',\n",
       "  'Xiaomi Mi 11 Lite 5G NE Unlocked Cellphone, 5G + 4G LTE Volte Smartphone,8GB + 128GB,Black',\n",
       "  'ZTE Blade Spark Z971 (16GB, 2GB RAM) 5.5\" Full HD Display | Dual Camera | 3140 mAh Battery | Android 7.1 Nougat | Fingerprint Security | 4G LTE | GSM Unlocked Smartphone',\n",
       "  'Nokia 1.4 | Android 10 (Go Edition) | Unlocked Smartphone | 2-Day Battery | Dual SIM | US Version| 2/32GB | 6.51-Inch Screen | Charcoal',\n",
       "  'Desire 628 Dual SIM D628H 2PVG200 4G GSM Unlocked Android Smartphone (Cobalt White) - International Version']}"
      ]
     },
     "execution_count": 65,
     "metadata": {},
     "output_type": "execute_result"
    }
   ],
   "source": [
    "scraper.get_result_similar(\"https://www.amazon.com/s?k=mi+phones&crid=BSXO9NCXPLOD&sprefix=mi+phones%2Caps%2C569&ref=nb_sb_noss_1\",group_by_alias=True)"
   ]
  }
 ],
 "metadata": {
  "kernelspec": {
   "display_name": "Python 3 (ipykernel)",
   "language": "python",
   "name": "python3"
  },
  "language_info": {
   "codemirror_mode": {
    "name": "ipython",
    "version": 3
   },
   "file_extension": ".py",
   "mimetype": "text/x-python",
   "name": "python",
   "nbconvert_exporter": "python",
   "pygments_lexer": "ipython3",
   "version": "3.11.5"
  }
 },
 "nbformat": 4,
 "nbformat_minor": 5
}
